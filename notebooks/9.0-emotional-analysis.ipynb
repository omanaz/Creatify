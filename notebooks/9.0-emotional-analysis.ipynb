{
 "cells": [
  {
   "cell_type": "markdown",
   "metadata": {},
   "source": [
    "# Emotional Analysis\n",
    "\n",
    " After playing around with two well known NLP libraries, they weren't able to accomplish what I was hoping to accomplish. So, after some research I was able to discover a few other libraries that could do a more indepth analysis of the lyrics I was hoping for. This is more in the vein of emotional analysis."
   ]
  },
  {
   "cell_type": "markdown",
   "metadata": {},
   "source": [
    "## Empath"
   ]
  },
  {
   "cell_type": "code",
   "execution_count": 1,
   "metadata": {},
   "outputs": [],
   "source": [
    "from empath import Empath\n",
    "lexicon = Empath()"
   ]
  },
  {
   "cell_type": "code",
   "execution_count": 3,
   "metadata": {},
   "outputs": [
    {
     "data": {
      "text/plain": [
       "{'help': 0.0,\n",
       " 'office': 0.0,\n",
       " 'dance': 0.0,\n",
       " 'money': 0.0,\n",
       " 'wedding': 0.0,\n",
       " 'domestic_work': 0.0,\n",
       " 'sleep': 0.0,\n",
       " 'medical_emergency': 0.0,\n",
       " 'cold': 0.0,\n",
       " 'hate': 0.0,\n",
       " 'cheerfulness': 0.0,\n",
       " 'aggression': 0.0,\n",
       " 'occupation': 0.0,\n",
       " 'envy': 0.0,\n",
       " 'anticipation': 0.0,\n",
       " 'family': 0.0,\n",
       " 'vacation': 0.0,\n",
       " 'crime': 0.0,\n",
       " 'attractive': 0.0,\n",
       " 'masculine': 0.0,\n",
       " 'prison': 0.0,\n",
       " 'health': 0.0,\n",
       " 'pride': 0.0,\n",
       " 'dispute': 0.0,\n",
       " 'nervousness': 0.0,\n",
       " 'government': 0.0,\n",
       " 'weakness': 0.0,\n",
       " 'horror': 0.0,\n",
       " 'swearing_terms': 0.0,\n",
       " 'leisure': 0.0,\n",
       " 'suffering': 0.0,\n",
       " 'royalty': 0.0,\n",
       " 'wealthy': 0.0,\n",
       " 'tourism': 0.0,\n",
       " 'furniture': 0.0,\n",
       " 'school': 0.0,\n",
       " 'magic': 0.0,\n",
       " 'beach': 0.0,\n",
       " 'journalism': 0.0,\n",
       " 'morning': 0.0,\n",
       " 'banking': 0.0,\n",
       " 'social_media': 0.0,\n",
       " 'exercise': 0.0,\n",
       " 'night': 0.0,\n",
       " 'kill': 0.0,\n",
       " 'blue_collar_job': 0.0,\n",
       " 'art': 0.0,\n",
       " 'ridicule': 0.0,\n",
       " 'play': 0.0,\n",
       " 'computer': 0.0,\n",
       " 'college': 0.0,\n",
       " 'optimism': 0.0,\n",
       " 'stealing': 0.0,\n",
       " 'real_estate': 0.0,\n",
       " 'home': 0.0,\n",
       " 'divine': 0.0,\n",
       " 'sexual': 0.0,\n",
       " 'fear': 0.0,\n",
       " 'irritability': 0.0,\n",
       " 'superhero': 0.0,\n",
       " 'business': 0.0,\n",
       " 'driving': 0.0,\n",
       " 'pet': 0.0,\n",
       " 'childish': 0.0,\n",
       " 'cooking': 0.0,\n",
       " 'exasperation': 0.0,\n",
       " 'religion': 0.0,\n",
       " 'hipster': 0.0,\n",
       " 'internet': 0.0,\n",
       " 'surprise': 0.0,\n",
       " 'reading': 0.0,\n",
       " 'worship': 0.0,\n",
       " 'leader': 0.0,\n",
       " 'independence': 0.0,\n",
       " 'movement': 0.2,\n",
       " 'body': 0.0,\n",
       " 'noise': 0.0,\n",
       " 'eating': 0.0,\n",
       " 'medieval': 0.0,\n",
       " 'zest': 0.0,\n",
       " 'confusion': 0.0,\n",
       " 'water': 0.0,\n",
       " 'sports': 0.0,\n",
       " 'death': 0.0,\n",
       " 'healing': 0.0,\n",
       " 'legend': 0.0,\n",
       " 'heroic': 0.0,\n",
       " 'celebration': 0.0,\n",
       " 'restaurant': 0.0,\n",
       " 'violence': 0.2,\n",
       " 'programming': 0.0,\n",
       " 'dominant_heirarchical': 0.0,\n",
       " 'military': 0.0,\n",
       " 'neglect': 0.0,\n",
       " 'swimming': 0.0,\n",
       " 'exotic': 0.0,\n",
       " 'love': 0.0,\n",
       " 'hiking': 0.0,\n",
       " 'communication': 0.0,\n",
       " 'hearing': 0.0,\n",
       " 'order': 0.0,\n",
       " 'sympathy': 0.0,\n",
       " 'hygiene': 0.0,\n",
       " 'weather': 0.0,\n",
       " 'anonymity': 0.0,\n",
       " 'trust': 0.0,\n",
       " 'ancient': 0.0,\n",
       " 'deception': 0.0,\n",
       " 'fabric': 0.0,\n",
       " 'air_travel': 0.0,\n",
       " 'fight': 0.0,\n",
       " 'dominant_personality': 0.0,\n",
       " 'music': 0.0,\n",
       " 'vehicle': 0.0,\n",
       " 'politeness': 0.0,\n",
       " 'toy': 0.0,\n",
       " 'farming': 0.0,\n",
       " 'meeting': 0.0,\n",
       " 'war': 0.0,\n",
       " 'speaking': 0.0,\n",
       " 'listen': 0.0,\n",
       " 'urban': 0.0,\n",
       " 'shopping': 0.0,\n",
       " 'disgust': 0.0,\n",
       " 'fire': 0.0,\n",
       " 'tool': 0.0,\n",
       " 'phone': 0.0,\n",
       " 'gain': 0.0,\n",
       " 'sound': 0.0,\n",
       " 'injury': 0.0,\n",
       " 'sailing': 0.0,\n",
       " 'rage': 0.0,\n",
       " 'science': 0.0,\n",
       " 'work': 0.0,\n",
       " 'appearance': 0.0,\n",
       " 'valuable': 0.0,\n",
       " 'warmth': 0.0,\n",
       " 'youth': 0.0,\n",
       " 'sadness': 0.0,\n",
       " 'fun': 0.0,\n",
       " 'emotional': 0.0,\n",
       " 'joy': 0.0,\n",
       " 'affection': 0.0,\n",
       " 'traveling': 0.0,\n",
       " 'fashion': 0.0,\n",
       " 'ugliness': 0.0,\n",
       " 'lust': 0.0,\n",
       " 'shame': 0.0,\n",
       " 'torment': 0.0,\n",
       " 'economics': 0.0,\n",
       " 'anger': 0.0,\n",
       " 'politics': 0.0,\n",
       " 'ship': 0.0,\n",
       " 'clothing': 0.0,\n",
       " 'car': 0.0,\n",
       " 'strength': 0.0,\n",
       " 'technology': 0.0,\n",
       " 'breaking': 0.0,\n",
       " 'shape_and_size': 0.0,\n",
       " 'power': 0.0,\n",
       " 'white_collar_job': 0.0,\n",
       " 'animal': 0.0,\n",
       " 'party': 0.0,\n",
       " 'terrorism': 0.0,\n",
       " 'smell': 0.0,\n",
       " 'disappointment': 0.0,\n",
       " 'poor': 0.0,\n",
       " 'plant': 0.0,\n",
       " 'pain': 0.2,\n",
       " 'beauty': 0.0,\n",
       " 'timidity': 0.0,\n",
       " 'philosophy': 0.0,\n",
       " 'negotiate': 0.0,\n",
       " 'negative_emotion': 0.2,\n",
       " 'cleaning': 0.0,\n",
       " 'messaging': 0.0,\n",
       " 'competing': 0.0,\n",
       " 'law': 0.0,\n",
       " 'friends': 0.0,\n",
       " 'payment': 0.0,\n",
       " 'achievement': 0.0,\n",
       " 'alcohol': 0.0,\n",
       " 'liquid': 0.0,\n",
       " 'feminine': 0.0,\n",
       " 'weapon': 0.0,\n",
       " 'children': 0.0,\n",
       " 'monster': 0.0,\n",
       " 'ocean': 0.0,\n",
       " 'giving': 0.0,\n",
       " 'contentment': 0.0,\n",
       " 'writing': 0.0,\n",
       " 'rural': 0.0,\n",
       " 'positive_emotion': 0.0,\n",
       " 'musical': 0.0}"
      ]
     },
     "execution_count": 3,
     "metadata": {},
     "output_type": "execute_result"
    }
   ],
   "source": [
    "# Analyze text over all pre-built categories:\n",
    "lexicon.analyze(\"he hit the other person\", normalize=True)"
   ]
  },
  {
   "cell_type": "code",
   "execution_count": 4,
   "metadata": {},
   "outputs": [
    {
     "data": {
      "text/plain": [
       "{'violence': 1.0}"
      ]
     },
     "execution_count": 4,
     "metadata": {},
     "output_type": "execute_result"
    }
   ],
   "source": [
    "lexicon.analyze(\"he hit the other person\", categories=[\"violence\"])"
   ]
  },
  {
   "cell_type": "code",
   "execution_count": 6,
   "metadata": {},
   "outputs": [
    {
     "data": {
      "text/plain": [
       "{'violence': 0.2}"
      ]
     },
     "execution_count": 6,
     "metadata": {},
     "output_type": "execute_result"
    }
   ],
   "source": [
    "#  normalize over words in the document.\n",
    "lexicon.analyze(\"he hit the other person\", categories=[\"violence\"], normalize=True)"
   ]
  },
  {
   "cell_type": "markdown",
   "metadata": {},
   "source": [
    "### Creating Categories\n",
    "You can create categories for empath. At the moment, I do not anticipate needing this but could use it depending on how I think the current categories work for my goal"
   ]
  },
  {
   "cell_type": "code",
   "execution_count": 7,
   "metadata": {},
   "outputs": [
    {
     "name": "stdout",
     "output_type": "stream",
     "text": [
      "[\"blue\", \"green\", \"purple\", \"purple\", \"green\", \"yellow\", \"red\", \"grey\", \"violet\", \"gray\", \"blue\", \"orange\", \"white\", \"pink\", \"yellow\", \"black\", \"brown\", \"brown\", \"red\", \"aqua\", \"turquoise\", \"blue_color\", \"colored\", \"color\", \"same_shade\", \"violet\", \"gray\", \"grey\", \"teal\", \"nice_shade\", \"coloured\", \"forest_green\", \"colored\", \"different_shade\", \"colour\", \"sparkly\", \"reddish\", \"beautiful_shade\", \"greenish\", \"indigo\", \"darker_shade\", \"emerald\", \"lovely_shade\", \"tints\", \"crimson\", \"dark_purple\", \"pink\", \"emerald\", \"sapphire\", \"golden\", \"lighter_shade\", \"lime_green\", \"coloured\", \"bright\", \"same_color\", \"specks\", \"red\", \"golden_color\", \"different_shades\", \"chocolate_brown\", \"orange\", \"bluish\", \"green\", \"deep_purple\", \"magenta\", \"green_color\", \"dark_shade\", \"bright_orange\", \"milky\", \"lilac\", \"light_brown\", \"sparkling\", \"golden_brown\", \"silvery\", \"baby_blue\", \"blood_red\", \"pink\", \"teal\", \"blue\", \"yellowish\", \"turquoise\", \"same_colour\", \"sparkly\", \"aquamarine\", \"black_color\", \"white\", \"cerulean\", \"perfect_shade\", \"dark\", \"speckled\", \"charcoal\", \"greyish\", \"midnight_blue\", \"emerald_green\", \"deep_brown\", \"ocean_blue\", \"flecks\", \"amber\", \"pinkish\", \"jet_black\"]\n"
     ]
    }
   ],
   "source": [
    "#create new lexical categories for analysis using word embeddings in our VSM\n",
    "lexicon.create_category(\"colors\",[\"red\",\"blue\",\"green\"])"
   ]
  },
  {
   "cell_type": "code",
   "execution_count": 8,
   "metadata": {},
   "outputs": [
    {
     "data": {
      "text/plain": [
       "{'colors': 0.4}"
      ]
     },
     "execution_count": 8,
     "metadata": {},
     "output_type": "execute_result"
    }
   ],
   "source": [
    "lexicon.analyze(\"My favorite color is blue\", categories=[\"colors\"], normalize=True)"
   ]
  },
  {
   "cell_type": "code",
   "execution_count": 9,
   "metadata": {},
   "outputs": [
    {
     "name": "stdout",
     "output_type": "stream",
     "text": [
      "[\"cold_war\", \"the_cold_war\", \"the_Cold_War\", \"war\", \"Soviet_threat\", \"the_end_of_the_cold_war\", \"Communism\", \"world_war\", \"Soviet_empire\", \"Soviet_power\", \"Communism\", \"gulf_war\", \"Soviet_bloc\", \"the_Soviet_Union\", \"communism\", \"superpowers\", \"nuclear_age\", \"nuclear_war\", \"Soviet_system\", \"evil_empire\", \"Soviets\", \"wars\", \"arms_race\", \"Indochina\", \"detente\", \"Iran-Iraq_war\", \"Persian_Gulf_war\", \"American_power\", \"new_world_order\", \"American_involvement\", \"wartime\", \"American_foreign_policy\", \"American_occupation\", \"the_Soviet_Union's\", \"Soviet_Communism\", \"nuclear_arms_race\", \"the_Korean_War\", \"military_power\", \"Persian_Gulf_war\", \"great_powers\", \"Marshall_Plan\", \"the_Second_World_War\", \"Communist_rule\", \"the_Warsaw_Pact\", \"Soviet_military\", \"Reagan_years\", \"Reagan_era\", \"Cuban_missile_crisis\", \"world_wars\", \"postwar_period\", \"Communist_world\", \"military-industrial_complex\", \"perestroika\", \"superpower\", \"new_war\", \"Desert_Storm\", \"space_race\", \"Mikhail_Gorbachev\", \"Communist_system\", \"World_War_II\", \"nation-building\", \"the_Vietnam_War\", \"dictatorship\", \"South_Vietnam\", \"Iron_Curtain\", \"diplomacy\", \"old_Soviet_Union\", \"military_buildup\", \"containment\", \"German_unification\", \"Balkans\", \"gulf_crisis\", \"revolution\", \"last_war\", \"Soviet_era\", \"dictatorships\", \"warfare\", \"glasnost\", \"Soviet_state\", \"Communist_regimes\", \"domestic_politics\", \"Khrushchev\", \"American_diplomacy\", \"postwar_era\", \"Soviet_economy\", \"peacetime\", \"Korean_peninsula\", \"Allies\", \"Soviet-American_relations\", \"cold_war_era\", \"space_program\", \"Soviet_occupation\", \"arms_control\", \"Soviet_leaders\", \"World_War_I\", \"Western_alliance\", \"military_strategy\", \"quagmire\", \"regime\", \"fascism\"]\n"
     ]
    }
   ],
   "source": [
    "# Three different models you can use to create categories: fiction, nytimes, and reddit.\n",
    "# They have different strengths and weaknesses in terms of generating categories. \n",
    "# Nytimes would be better for something like the cold war\n",
    "lexicon.create_category(\"cold_war\", [\"cold_war\"], model=\"nytimes\")"
   ]
  },
  {
   "cell_type": "code",
   "execution_count": null,
   "metadata": {},
   "outputs": [],
   "source": []
  }
 ],
 "metadata": {
  "kernelspec": {
   "display_name": "Python 3.9.7 ('base')",
   "language": "python",
   "name": "python3"
  },
  "language_info": {
   "codemirror_mode": {
    "name": "ipython",
    "version": 3
   },
   "file_extension": ".py",
   "mimetype": "text/x-python",
   "name": "python",
   "nbconvert_exporter": "python",
   "pygments_lexer": "ipython3",
   "version": "3.9.7"
  },
  "orig_nbformat": 4,
  "vscode": {
   "interpreter": {
    "hash": "74a37a82a1045f722fa39b5e25843ead82fe26f95a8a3d59b6a29879869666f7"
   }
  }
 },
 "nbformat": 4,
 "nbformat_minor": 2
}
